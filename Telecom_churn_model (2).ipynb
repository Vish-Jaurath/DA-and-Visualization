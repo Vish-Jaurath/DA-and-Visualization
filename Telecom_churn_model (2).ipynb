{
  "nbformat": 4,
  "nbformat_minor": 0,
  "metadata": {
    "colab": {
      "name": "Telecom_churn_model.ipynb",
      "provenance": [],
      "collapsed_sections": []
    },
    "kernelspec": {
      "name": "python3",
      "display_name": "Python 3"
    }
  },
  "cells": [
    {
      "cell_type": "markdown",
      "metadata": {
        "id": "U3BCpxJxfTZg"
      },
      "source": [
        "**Problem Statement**\r\n",
        "\r\n",
        "**Customer churn prediction is to measure why customers are leaving a business. In this project I've built a customer churn deep learning model for telecom business along with precision,recall, f1-score to measure performance of our model. At the end also tackled the problem of Imbalanced data.**"
      ]
    },
    {
      "cell_type": "code",
      "metadata": {
        "colab": {
          "base_uri": "https://localhost:8080/"
        },
        "id": "OzBg9YJHH7u8",
        "outputId": "4ad22179-1f4e-42a2-9a6a-b20b4765f8fe"
      },
      "source": [
        "from google.colab import drive\n",
        "drive.mount('/content/drive')"
      ],
      "execution_count": 274,
      "outputs": [
        {
          "output_type": "stream",
          "text": [
            "Drive already mounted at /content/drive; to attempt to forcibly remount, call drive.mount(\"/content/drive\", force_remount=True).\n"
          ],
          "name": "stdout"
        }
      ]
    },
    {
      "cell_type": "code",
      "metadata": {
        "id": "QxGKQHaDIVfa"
      },
      "source": [
        "!pip install -q keras"
      ],
      "execution_count": 275,
      "outputs": []
    },
    {
      "cell_type": "code",
      "metadata": {
        "id": "VsY6BZ2nIp9R"
      },
      "source": [
        "import pandas as pd\r\n",
        "import matplotlib.pyplot as plt\r\n",
        "import numpy as np\r\n",
        "import warnings\r\n",
        "warnings.filterwarnings(\"ignore\")"
      ],
      "execution_count": 276,
      "outputs": []
    },
    {
      "cell_type": "markdown",
      "metadata": {
        "id": "A10na7xzk7LJ"
      },
      "source": [
        "**Getting the Dataset for our Problem**"
      ]
    },
    {
      "cell_type": "code",
      "metadata": {
        "colab": {
          "base_uri": "https://localhost:8080/",
          "height": 309
        },
        "id": "D9wxFgyBIz4L",
        "outputId": "9206777c-6516-41f5-c59c-6a40d004a399"
      },
      "source": [
        "df= pd.read_csv('/content/drive/MyDrive/DL/churn.csv')\r\n",
        "df.sample(5)"
      ],
      "execution_count": 277,
      "outputs": [
        {
          "output_type": "execute_result",
          "data": {
            "text/html": [
              "<div>\n",
              "<style scoped>\n",
              "    .dataframe tbody tr th:only-of-type {\n",
              "        vertical-align: middle;\n",
              "    }\n",
              "\n",
              "    .dataframe tbody tr th {\n",
              "        vertical-align: top;\n",
              "    }\n",
              "\n",
              "    .dataframe thead th {\n",
              "        text-align: right;\n",
              "    }\n",
              "</style>\n",
              "<table border=\"1\" class=\"dataframe\">\n",
              "  <thead>\n",
              "    <tr style=\"text-align: right;\">\n",
              "      <th></th>\n",
              "      <th>customerID</th>\n",
              "      <th>gender</th>\n",
              "      <th>SeniorCitizen</th>\n",
              "      <th>Partner</th>\n",
              "      <th>Dependents</th>\n",
              "      <th>tenure</th>\n",
              "      <th>PhoneService</th>\n",
              "      <th>MultipleLines</th>\n",
              "      <th>InternetService</th>\n",
              "      <th>OnlineSecurity</th>\n",
              "      <th>OnlineBackup</th>\n",
              "      <th>DeviceProtection</th>\n",
              "      <th>TechSupport</th>\n",
              "      <th>StreamingTV</th>\n",
              "      <th>StreamingMovies</th>\n",
              "      <th>Contract</th>\n",
              "      <th>PaperlessBilling</th>\n",
              "      <th>PaymentMethod</th>\n",
              "      <th>MonthlyCharges</th>\n",
              "      <th>TotalCharges</th>\n",
              "      <th>Churn</th>\n",
              "    </tr>\n",
              "  </thead>\n",
              "  <tbody>\n",
              "    <tr>\n",
              "      <th>2611</th>\n",
              "      <td>5976-JCJRH</td>\n",
              "      <td>Male</td>\n",
              "      <td>0</td>\n",
              "      <td>Yes</td>\n",
              "      <td>No</td>\n",
              "      <td>10</td>\n",
              "      <td>Yes</td>\n",
              "      <td>No</td>\n",
              "      <td>Fiber optic</td>\n",
              "      <td>No</td>\n",
              "      <td>No</td>\n",
              "      <td>No</td>\n",
              "      <td>No</td>\n",
              "      <td>No</td>\n",
              "      <td>No</td>\n",
              "      <td>Month-to-month</td>\n",
              "      <td>Yes</td>\n",
              "      <td>Electronic check</td>\n",
              "      <td>70.30</td>\n",
              "      <td>738.2</td>\n",
              "      <td>Yes</td>\n",
              "    </tr>\n",
              "    <tr>\n",
              "      <th>3996</th>\n",
              "      <td>1395-WSWXR</td>\n",
              "      <td>Male</td>\n",
              "      <td>0</td>\n",
              "      <td>No</td>\n",
              "      <td>No</td>\n",
              "      <td>24</td>\n",
              "      <td>Yes</td>\n",
              "      <td>No</td>\n",
              "      <td>No</td>\n",
              "      <td>No internet service</td>\n",
              "      <td>No internet service</td>\n",
              "      <td>No internet service</td>\n",
              "      <td>No internet service</td>\n",
              "      <td>No internet service</td>\n",
              "      <td>No internet service</td>\n",
              "      <td>Two year</td>\n",
              "      <td>No</td>\n",
              "      <td>Mailed check</td>\n",
              "      <td>20.75</td>\n",
              "      <td>487.05</td>\n",
              "      <td>No</td>\n",
              "    </tr>\n",
              "    <tr>\n",
              "      <th>2100</th>\n",
              "      <td>6227-FBDXH</td>\n",
              "      <td>Male</td>\n",
              "      <td>0</td>\n",
              "      <td>Yes</td>\n",
              "      <td>No</td>\n",
              "      <td>69</td>\n",
              "      <td>Yes</td>\n",
              "      <td>Yes</td>\n",
              "      <td>Fiber optic</td>\n",
              "      <td>No</td>\n",
              "      <td>No</td>\n",
              "      <td>Yes</td>\n",
              "      <td>No</td>\n",
              "      <td>Yes</td>\n",
              "      <td>Yes</td>\n",
              "      <td>One year</td>\n",
              "      <td>No</td>\n",
              "      <td>Bank transfer (automatic)</td>\n",
              "      <td>99.50</td>\n",
              "      <td>6841.45</td>\n",
              "      <td>No</td>\n",
              "    </tr>\n",
              "    <tr>\n",
              "      <th>4564</th>\n",
              "      <td>4877-EVATK</td>\n",
              "      <td>Male</td>\n",
              "      <td>0</td>\n",
              "      <td>No</td>\n",
              "      <td>No</td>\n",
              "      <td>1</td>\n",
              "      <td>Yes</td>\n",
              "      <td>No</td>\n",
              "      <td>No</td>\n",
              "      <td>No internet service</td>\n",
              "      <td>No internet service</td>\n",
              "      <td>No internet service</td>\n",
              "      <td>No internet service</td>\n",
              "      <td>No internet service</td>\n",
              "      <td>No internet service</td>\n",
              "      <td>Month-to-month</td>\n",
              "      <td>No</td>\n",
              "      <td>Mailed check</td>\n",
              "      <td>20.00</td>\n",
              "      <td>20</td>\n",
              "      <td>Yes</td>\n",
              "    </tr>\n",
              "    <tr>\n",
              "      <th>4448</th>\n",
              "      <td>6543-XRMYR</td>\n",
              "      <td>Female</td>\n",
              "      <td>1</td>\n",
              "      <td>No</td>\n",
              "      <td>No</td>\n",
              "      <td>30</td>\n",
              "      <td>Yes</td>\n",
              "      <td>Yes</td>\n",
              "      <td>Fiber optic</td>\n",
              "      <td>No</td>\n",
              "      <td>Yes</td>\n",
              "      <td>No</td>\n",
              "      <td>No</td>\n",
              "      <td>Yes</td>\n",
              "      <td>Yes</td>\n",
              "      <td>Month-to-month</td>\n",
              "      <td>Yes</td>\n",
              "      <td>Electronic check</td>\n",
              "      <td>99.70</td>\n",
              "      <td>2967.35</td>\n",
              "      <td>Yes</td>\n",
              "    </tr>\n",
              "  </tbody>\n",
              "</table>\n",
              "</div>"
            ],
            "text/plain": [
              "      customerID  gender  SeniorCitizen  ... MonthlyCharges TotalCharges  Churn\n",
              "2611  5976-JCJRH    Male              0  ...          70.30        738.2    Yes\n",
              "3996  1395-WSWXR    Male              0  ...          20.75       487.05     No\n",
              "2100  6227-FBDXH    Male              0  ...          99.50      6841.45     No\n",
              "4564  4877-EVATK    Male              0  ...          20.00           20    Yes\n",
              "4448  6543-XRMYR  Female              1  ...          99.70      2967.35    Yes\n",
              "\n",
              "[5 rows x 21 columns]"
            ]
          },
          "metadata": {
            "tags": []
          },
          "execution_count": 277
        }
      ]
    },
    {
      "cell_type": "markdown",
      "metadata": {
        "id": "mKWbFARWmKi-"
      },
      "source": [
        "**Hypothesis Generation**\r\n",
        "\r\n",
        "Are the variables related to cost, billing, network, and service quality making a significant contribution towards a customer’s decision to stay with or leave the service provider?"
      ]
    },
    {
      "cell_type": "code",
      "metadata": {
        "id": "-8vZsts6O0fs"
      },
      "source": [
        "# customerID won't provide any information for ML.\r\n",
        "df.drop('customerID', axis=1, inplace= True) "
      ],
      "execution_count": 278,
      "outputs": []
    },
    {
      "cell_type": "markdown",
      "metadata": {
        "id": "pTVyVmvqpvgV"
      },
      "source": [
        "**Data Preparation — Descriptive Analytics**"
      ]
    },
    {
      "cell_type": "code",
      "metadata": {
        "id": "-AUwchZAPApl"
      },
      "source": [
        "#pd.to_numeric(df.TotalCharges)"
      ],
      "execution_count": 279,
      "outputs": []
    },
    {
      "cell_type": "markdown",
      "metadata": {
        "id": "0_8_DkKITRuj"
      },
      "source": [
        "** Some values seems to be not numbers but blank string.**"
      ]
    },
    {
      "cell_type": "code",
      "metadata": {
        "colab": {
          "base_uri": "https://localhost:8080/"
        },
        "id": "O3kl2H7rJpeP",
        "outputId": "7430849f-4060-47a8-ab41-56c9bc0c5c89"
      },
      "source": [
        "df.TotalCharges.unique()"
      ],
      "execution_count": 280,
      "outputs": [
        {
          "output_type": "execute_result",
          "data": {
            "text/plain": [
              "array(['29.85', '1889.5', '108.15', ..., '346.45', '306.6', '6844.5'],\n",
              "      dtype=object)"
            ]
          },
          "metadata": {
            "tags": []
          },
          "execution_count": 280
        }
      ]
    },
    {
      "cell_type": "code",
      "metadata": {
        "colab": {
          "base_uri": "https://localhost:8080/",
          "height": 563
        },
        "id": "fnlqm3knJ_ZJ",
        "outputId": "9eb67b0e-88ca-49d8-9ac7-f7e618170b81"
      },
      "source": [
        "df[df.TotalCharges == ' ']"
      ],
      "execution_count": 281,
      "outputs": [
        {
          "output_type": "execute_result",
          "data": {
            "text/html": [
              "<div>\n",
              "<style scoped>\n",
              "    .dataframe tbody tr th:only-of-type {\n",
              "        vertical-align: middle;\n",
              "    }\n",
              "\n",
              "    .dataframe tbody tr th {\n",
              "        vertical-align: top;\n",
              "    }\n",
              "\n",
              "    .dataframe thead th {\n",
              "        text-align: right;\n",
              "    }\n",
              "</style>\n",
              "<table border=\"1\" class=\"dataframe\">\n",
              "  <thead>\n",
              "    <tr style=\"text-align: right;\">\n",
              "      <th></th>\n",
              "      <th>gender</th>\n",
              "      <th>SeniorCitizen</th>\n",
              "      <th>Partner</th>\n",
              "      <th>Dependents</th>\n",
              "      <th>tenure</th>\n",
              "      <th>PhoneService</th>\n",
              "      <th>MultipleLines</th>\n",
              "      <th>InternetService</th>\n",
              "      <th>OnlineSecurity</th>\n",
              "      <th>OnlineBackup</th>\n",
              "      <th>DeviceProtection</th>\n",
              "      <th>TechSupport</th>\n",
              "      <th>StreamingTV</th>\n",
              "      <th>StreamingMovies</th>\n",
              "      <th>Contract</th>\n",
              "      <th>PaperlessBilling</th>\n",
              "      <th>PaymentMethod</th>\n",
              "      <th>MonthlyCharges</th>\n",
              "      <th>TotalCharges</th>\n",
              "      <th>Churn</th>\n",
              "    </tr>\n",
              "  </thead>\n",
              "  <tbody>\n",
              "    <tr>\n",
              "      <th>488</th>\n",
              "      <td>Female</td>\n",
              "      <td>0</td>\n",
              "      <td>Yes</td>\n",
              "      <td>Yes</td>\n",
              "      <td>0</td>\n",
              "      <td>No</td>\n",
              "      <td>No phone service</td>\n",
              "      <td>DSL</td>\n",
              "      <td>Yes</td>\n",
              "      <td>No</td>\n",
              "      <td>Yes</td>\n",
              "      <td>Yes</td>\n",
              "      <td>Yes</td>\n",
              "      <td>No</td>\n",
              "      <td>Two year</td>\n",
              "      <td>Yes</td>\n",
              "      <td>Bank transfer (automatic)</td>\n",
              "      <td>52.55</td>\n",
              "      <td></td>\n",
              "      <td>No</td>\n",
              "    </tr>\n",
              "    <tr>\n",
              "      <th>753</th>\n",
              "      <td>Male</td>\n",
              "      <td>0</td>\n",
              "      <td>No</td>\n",
              "      <td>Yes</td>\n",
              "      <td>0</td>\n",
              "      <td>Yes</td>\n",
              "      <td>No</td>\n",
              "      <td>No</td>\n",
              "      <td>No internet service</td>\n",
              "      <td>No internet service</td>\n",
              "      <td>No internet service</td>\n",
              "      <td>No internet service</td>\n",
              "      <td>No internet service</td>\n",
              "      <td>No internet service</td>\n",
              "      <td>Two year</td>\n",
              "      <td>No</td>\n",
              "      <td>Mailed check</td>\n",
              "      <td>20.25</td>\n",
              "      <td></td>\n",
              "      <td>No</td>\n",
              "    </tr>\n",
              "    <tr>\n",
              "      <th>936</th>\n",
              "      <td>Female</td>\n",
              "      <td>0</td>\n",
              "      <td>Yes</td>\n",
              "      <td>Yes</td>\n",
              "      <td>0</td>\n",
              "      <td>Yes</td>\n",
              "      <td>No</td>\n",
              "      <td>DSL</td>\n",
              "      <td>Yes</td>\n",
              "      <td>Yes</td>\n",
              "      <td>Yes</td>\n",
              "      <td>No</td>\n",
              "      <td>Yes</td>\n",
              "      <td>Yes</td>\n",
              "      <td>Two year</td>\n",
              "      <td>No</td>\n",
              "      <td>Mailed check</td>\n",
              "      <td>80.85</td>\n",
              "      <td></td>\n",
              "      <td>No</td>\n",
              "    </tr>\n",
              "    <tr>\n",
              "      <th>1082</th>\n",
              "      <td>Male</td>\n",
              "      <td>0</td>\n",
              "      <td>Yes</td>\n",
              "      <td>Yes</td>\n",
              "      <td>0</td>\n",
              "      <td>Yes</td>\n",
              "      <td>Yes</td>\n",
              "      <td>No</td>\n",
              "      <td>No internet service</td>\n",
              "      <td>No internet service</td>\n",
              "      <td>No internet service</td>\n",
              "      <td>No internet service</td>\n",
              "      <td>No internet service</td>\n",
              "      <td>No internet service</td>\n",
              "      <td>Two year</td>\n",
              "      <td>No</td>\n",
              "      <td>Mailed check</td>\n",
              "      <td>25.75</td>\n",
              "      <td></td>\n",
              "      <td>No</td>\n",
              "    </tr>\n",
              "    <tr>\n",
              "      <th>1340</th>\n",
              "      <td>Female</td>\n",
              "      <td>0</td>\n",
              "      <td>Yes</td>\n",
              "      <td>Yes</td>\n",
              "      <td>0</td>\n",
              "      <td>No</td>\n",
              "      <td>No phone service</td>\n",
              "      <td>DSL</td>\n",
              "      <td>Yes</td>\n",
              "      <td>Yes</td>\n",
              "      <td>Yes</td>\n",
              "      <td>Yes</td>\n",
              "      <td>Yes</td>\n",
              "      <td>No</td>\n",
              "      <td>Two year</td>\n",
              "      <td>No</td>\n",
              "      <td>Credit card (automatic)</td>\n",
              "      <td>56.05</td>\n",
              "      <td></td>\n",
              "      <td>No</td>\n",
              "    </tr>\n",
              "    <tr>\n",
              "      <th>3331</th>\n",
              "      <td>Male</td>\n",
              "      <td>0</td>\n",
              "      <td>Yes</td>\n",
              "      <td>Yes</td>\n",
              "      <td>0</td>\n",
              "      <td>Yes</td>\n",
              "      <td>No</td>\n",
              "      <td>No</td>\n",
              "      <td>No internet service</td>\n",
              "      <td>No internet service</td>\n",
              "      <td>No internet service</td>\n",
              "      <td>No internet service</td>\n",
              "      <td>No internet service</td>\n",
              "      <td>No internet service</td>\n",
              "      <td>Two year</td>\n",
              "      <td>No</td>\n",
              "      <td>Mailed check</td>\n",
              "      <td>19.85</td>\n",
              "      <td></td>\n",
              "      <td>No</td>\n",
              "    </tr>\n",
              "    <tr>\n",
              "      <th>3826</th>\n",
              "      <td>Male</td>\n",
              "      <td>0</td>\n",
              "      <td>Yes</td>\n",
              "      <td>Yes</td>\n",
              "      <td>0</td>\n",
              "      <td>Yes</td>\n",
              "      <td>Yes</td>\n",
              "      <td>No</td>\n",
              "      <td>No internet service</td>\n",
              "      <td>No internet service</td>\n",
              "      <td>No internet service</td>\n",
              "      <td>No internet service</td>\n",
              "      <td>No internet service</td>\n",
              "      <td>No internet service</td>\n",
              "      <td>Two year</td>\n",
              "      <td>No</td>\n",
              "      <td>Mailed check</td>\n",
              "      <td>25.35</td>\n",
              "      <td></td>\n",
              "      <td>No</td>\n",
              "    </tr>\n",
              "    <tr>\n",
              "      <th>4380</th>\n",
              "      <td>Female</td>\n",
              "      <td>0</td>\n",
              "      <td>Yes</td>\n",
              "      <td>Yes</td>\n",
              "      <td>0</td>\n",
              "      <td>Yes</td>\n",
              "      <td>No</td>\n",
              "      <td>No</td>\n",
              "      <td>No internet service</td>\n",
              "      <td>No internet service</td>\n",
              "      <td>No internet service</td>\n",
              "      <td>No internet service</td>\n",
              "      <td>No internet service</td>\n",
              "      <td>No internet service</td>\n",
              "      <td>Two year</td>\n",
              "      <td>No</td>\n",
              "      <td>Mailed check</td>\n",
              "      <td>20.00</td>\n",
              "      <td></td>\n",
              "      <td>No</td>\n",
              "    </tr>\n",
              "    <tr>\n",
              "      <th>5218</th>\n",
              "      <td>Male</td>\n",
              "      <td>0</td>\n",
              "      <td>Yes</td>\n",
              "      <td>Yes</td>\n",
              "      <td>0</td>\n",
              "      <td>Yes</td>\n",
              "      <td>No</td>\n",
              "      <td>No</td>\n",
              "      <td>No internet service</td>\n",
              "      <td>No internet service</td>\n",
              "      <td>No internet service</td>\n",
              "      <td>No internet service</td>\n",
              "      <td>No internet service</td>\n",
              "      <td>No internet service</td>\n",
              "      <td>One year</td>\n",
              "      <td>Yes</td>\n",
              "      <td>Mailed check</td>\n",
              "      <td>19.70</td>\n",
              "      <td></td>\n",
              "      <td>No</td>\n",
              "    </tr>\n",
              "    <tr>\n",
              "      <th>6670</th>\n",
              "      <td>Female</td>\n",
              "      <td>0</td>\n",
              "      <td>Yes</td>\n",
              "      <td>Yes</td>\n",
              "      <td>0</td>\n",
              "      <td>Yes</td>\n",
              "      <td>Yes</td>\n",
              "      <td>DSL</td>\n",
              "      <td>No</td>\n",
              "      <td>Yes</td>\n",
              "      <td>Yes</td>\n",
              "      <td>Yes</td>\n",
              "      <td>Yes</td>\n",
              "      <td>No</td>\n",
              "      <td>Two year</td>\n",
              "      <td>No</td>\n",
              "      <td>Mailed check</td>\n",
              "      <td>73.35</td>\n",
              "      <td></td>\n",
              "      <td>No</td>\n",
              "    </tr>\n",
              "    <tr>\n",
              "      <th>6754</th>\n",
              "      <td>Male</td>\n",
              "      <td>0</td>\n",
              "      <td>No</td>\n",
              "      <td>Yes</td>\n",
              "      <td>0</td>\n",
              "      <td>Yes</td>\n",
              "      <td>Yes</td>\n",
              "      <td>DSL</td>\n",
              "      <td>Yes</td>\n",
              "      <td>Yes</td>\n",
              "      <td>No</td>\n",
              "      <td>Yes</td>\n",
              "      <td>No</td>\n",
              "      <td>No</td>\n",
              "      <td>Two year</td>\n",
              "      <td>Yes</td>\n",
              "      <td>Bank transfer (automatic)</td>\n",
              "      <td>61.90</td>\n",
              "      <td></td>\n",
              "      <td>No</td>\n",
              "    </tr>\n",
              "  </tbody>\n",
              "</table>\n",
              "</div>"
            ],
            "text/plain": [
              "      gender  SeniorCitizen Partner  ... MonthlyCharges  TotalCharges Churn\n",
              "488   Female              0     Yes  ...          52.55                  No\n",
              "753     Male              0      No  ...          20.25                  No\n",
              "936   Female              0     Yes  ...          80.85                  No\n",
              "1082    Male              0     Yes  ...          25.75                  No\n",
              "1340  Female              0     Yes  ...          56.05                  No\n",
              "3331    Male              0     Yes  ...          19.85                  No\n",
              "3826    Male              0     Yes  ...          25.35                  No\n",
              "4380  Female              0     Yes  ...          20.00                  No\n",
              "5218    Male              0     Yes  ...          19.70                  No\n",
              "6670  Female              0     Yes  ...          73.35                  No\n",
              "6754    Male              0      No  ...          61.90                  No\n",
              "\n",
              "[11 rows x 20 columns]"
            ]
          },
          "metadata": {
            "tags": []
          },
          "execution_count": 281
        }
      ]
    },
    {
      "cell_type": "markdown",
      "metadata": {
        "id": "vUzh6hK2KTxs"
      },
      "source": [
        "**As these are blank values, I've dropped them.**"
      ]
    },
    {
      "cell_type": "code",
      "metadata": {
        "id": "znBleO8GKEDy",
        "colab": {
          "base_uri": "https://localhost:8080/"
        },
        "outputId": "ad035ef8-61a6-4888-eaa7-fcb7aa9429e5"
      },
      "source": [
        "df1= df[df.TotalCharges != ' ']\r\n",
        "df1.TotalCharges= pd.to_numeric(df1.TotalCharges)\r\n",
        "df1.dtypes"
      ],
      "execution_count": 282,
      "outputs": [
        {
          "output_type": "execute_result",
          "data": {
            "text/plain": [
              "gender               object\n",
              "SeniorCitizen         int64\n",
              "Partner              object\n",
              "Dependents           object\n",
              "tenure                int64\n",
              "PhoneService         object\n",
              "MultipleLines        object\n",
              "InternetService      object\n",
              "OnlineSecurity       object\n",
              "OnlineBackup         object\n",
              "DeviceProtection     object\n",
              "TechSupport          object\n",
              "StreamingTV          object\n",
              "StreamingMovies      object\n",
              "Contract             object\n",
              "PaperlessBilling     object\n",
              "PaymentMethod        object\n",
              "MonthlyCharges      float64\n",
              "TotalCharges        float64\n",
              "Churn                object\n",
              "dtype: object"
            ]
          },
          "metadata": {
            "tags": []
          },
          "execution_count": 282
        }
      ]
    },
    {
      "cell_type": "code",
      "metadata": {
        "colab": {
          "base_uri": "https://localhost:8080/"
        },
        "id": "h81ebJsVKkL1",
        "outputId": "280b1ed2-9461-4a7c-be17-2451951dfdc8"
      },
      "source": [
        "df1.shape"
      ],
      "execution_count": 283,
      "outputs": [
        {
          "output_type": "execute_result",
          "data": {
            "text/plain": [
              "(7032, 20)"
            ]
          },
          "metadata": {
            "tags": []
          },
          "execution_count": 283
        }
      ]
    },
    {
      "cell_type": "code",
      "metadata": {
        "id": "_ayjaq_eLt_v"
      },
      "source": [
        "# Custom function to print unique categorical col values.\r\n",
        "def cat_val(data):\r\n",
        "  for col in data:\r\n",
        "    if data[col].dtypes=='object':\r\n",
        "      print(f'{col} : {data[col].unique()}')"
      ],
      "execution_count": 284,
      "outputs": []
    },
    {
      "cell_type": "code",
      "metadata": {
        "colab": {
          "base_uri": "https://localhost:8080/"
        },
        "id": "yriNN1YiL6Gi",
        "outputId": "f962c58a-a877-4ce9-e1e5-5453e67ecf9b"
      },
      "source": [
        "cat_val(df1)"
      ],
      "execution_count": 285,
      "outputs": [
        {
          "output_type": "stream",
          "text": [
            "gender : ['Female' 'Male']\n",
            "Partner : ['Yes' 'No']\n",
            "Dependents : ['No' 'Yes']\n",
            "PhoneService : ['No' 'Yes']\n",
            "MultipleLines : ['No phone service' 'No' 'Yes']\n",
            "InternetService : ['DSL' 'Fiber optic' 'No']\n",
            "OnlineSecurity : ['No' 'Yes' 'No internet service']\n",
            "OnlineBackup : ['Yes' 'No' 'No internet service']\n",
            "DeviceProtection : ['No' 'Yes' 'No internet service']\n",
            "TechSupport : ['No' 'Yes' 'No internet service']\n",
            "StreamingTV : ['No' 'Yes' 'No internet service']\n",
            "StreamingMovies : ['No' 'Yes' 'No internet service']\n",
            "Contract : ['Month-to-month' 'One year' 'Two year']\n",
            "PaperlessBilling : ['Yes' 'No']\n",
            "PaymentMethod : ['Electronic check' 'Mailed check' 'Bank transfer (automatic)'\n",
            " 'Credit card (automatic)']\n",
            "Churn : ['No' 'Yes']\n"
          ],
          "name": "stdout"
        }
      ]
    },
    {
      "cell_type": "markdown",
      "metadata": {
        "id": "nmuXT1QN2TZt"
      },
      "source": [
        "**Data Visualization**"
      ]
    },
    {
      "cell_type": "markdown",
      "metadata": {
        "id": "J8XfdJtyf7PW"
      },
      "source": [
        "*Univariate Analysis*"
      ]
    },
    {
      "cell_type": "code",
      "metadata": {
        "colab": {
          "base_uri": "https://localhost:8080/",
          "height": 480
        },
        "id": "6KfsHfVAvnni",
        "outputId": "025f59a9-8db0-4cfc-9325-1df3b598f7d7"
      },
      "source": [
        "import seaborn as sns\r\n",
        "sns.countplot('gender',data=df1,hue='Churn')"
      ],
      "execution_count": 286,
      "outputs": [
        {
          "output_type": "execute_result",
          "data": {
            "text/plain": [
              "<matplotlib.axes._subplots.AxesSubplot at 0x7f2fdb6e3510>"
            ]
          },
          "metadata": {
            "tags": []
          },
          "execution_count": 286
        },
        {
          "output_type": "display_data",
          "data": {
            "image/png": "[encoded data removed]",
            "text/plain": [
              "<Figure size 698.4x523.44 with 1 Axes>"
            ]
          },
          "metadata": {
            "tags": []
          }
        }
      ]
    },
    {
      "cell_type": "code",
      "metadata": {
        "colab": {
          "base_uri": "https://localhost:8080/",
          "height": 480
        },
        "id": "AD9Nn6EEv5n5",
        "outputId": "06dabf63-41bb-4b1d-a2a3-7c9cb8b27850"
      },
      "source": [
        "sns.countplot('InternetService',data=df1,hue='Churn')"
      ],
      "execution_count": 287,
      "outputs": [
        {
          "output_type": "execute_result",
          "data": {
            "text/plain": [
              "<matplotlib.axes._subplots.AxesSubplot at 0x7f2fdb7e6d90>"
            ]
          },
          "metadata": {
            "tags": []
          },
          "execution_count": 287
        },
        {
          "output_type": "display_data",
          "data": {
            "image/png": "[encoded data removed]",
            "text/plain": [
              "<Figure size 698.4x523.44 with 1 Axes>"
            ]
          },
          "metadata": {
            "tags": []
          }
        }
      ]
    },
    {
      "cell_type": "code",
      "metadata": {
        "colab": {
          "base_uri": "https://localhost:8080/",
          "height": 480
        },
        "id": "nNUWwlNJ3AaF",
        "outputId": "58ea3173-bc8a-4b27-bd46-f063a849d26a"
      },
      "source": [
        "sns.countplot('PhoneService',data=df1,hue='Churn')"
      ],
      "execution_count": 288,
      "outputs": [
        {
          "output_type": "execute_result",
          "data": {
            "text/plain": [
              "<matplotlib.axes._subplots.AxesSubplot at 0x7f2fdb743ed0>"
            ]
          },
          "metadata": {
            "tags": []
          },
          "execution_count": 288
        },
        {
          "output_type": "display_data",
          "data": {
            "image/png": "[encoded data removed]",
            "text/plain": [
              "<Figure size 698.4x523.44 with 1 Axes>"
            ]
          },
          "metadata": {
            "tags": []
          }
        }
      ]
    },
    {
      "cell_type": "markdown",
      "metadata": {
        "id": "4hjLmbBz3KBN"
      },
      "source": [
        "**So people were not satisfied with the Fibre Optic and Phone service and that's why there exists a majority in the churn rate for those customers.**"
      ]
    },
    {
      "cell_type": "code",
      "metadata": {
        "colab": {
          "base_uri": "https://localhost:8080/",
          "height": 480
        },
        "id": "omWqF8V2yPYY",
        "outputId": "a6a0b07a-9606-4066-d6ba-f4138f4855fc"
      },
      "source": [
        "sns.countplot('Contract',data=df1,hue='Churn')"
      ],
      "execution_count": 289,
      "outputs": [
        {
          "output_type": "execute_result",
          "data": {
            "text/plain": [
              "<matplotlib.axes._subplots.AxesSubplot at 0x7f2f9d53d2d0>"
            ]
          },
          "metadata": {
            "tags": []
          },
          "execution_count": 289
        },
        {
          "output_type": "display_data",
          "data": {
            "image/png": "[encoded data removed]",
            "text/plain": [
              "<Figure size 698.4x523.44 with 1 Axes>"
            ]
          },
          "metadata": {
            "tags": []
          }
        }
      ]
    },
    {
      "cell_type": "markdown",
      "metadata": {
        "id": "lCXX8x6ryqny"
      },
      "source": [
        "**So Basically the customers with m-t-m billing are more likely to churn out because they have just a month, on the other hand churn rate for customers with longer contracts is very low.**"
      ]
    },
    {
      "cell_type": "code",
      "metadata": {
        "colab": {
          "base_uri": "https://localhost:8080/",
          "height": 437
        },
        "id": "_DRCwAxClqd4",
        "outputId": "4d5b98fd-dfa8-4fb3-b4fd-e509e135446f"
      },
      "source": [
        "g= sns.FacetGrid(df1, col= 'Churn', height= 6)\r\n",
        "g.map(sns.kdeplot, 'MonthlyCharges', shade= True) \r\n",
        "sns.despine(left= True, bottom= True)"
      ],
      "execution_count": 290,
      "outputs": [
        {
          "output_type": "display_data",
          "data": {
            "image/png": "[encoded data removed]",
            "text/plain": [
              "<Figure size 864x432 with 2 Axes>"
            ]
          },
          "metadata": {
            "tags": []
          }
        }
      ]
    },
    {
      "cell_type": "markdown",
      "metadata": {
        "id": "zrF9TjB7zSk_"
      },
      "source": [
        "**The Churn rate is drastically increases as monthly charges increases.**"
      ]
    },
    {
      "cell_type": "code",
      "metadata": {
        "colab": {
          "base_uri": "https://localhost:8080/",
          "height": 437
        },
        "id": "4ODH83OU_3cA",
        "outputId": "3499c2c1-de83-4936-975a-f53dd06664d3"
      },
      "source": [
        "g= sns.FacetGrid(df1, col= 'Churn', height= 6)\r\n",
        "g.map(sns.kdeplot, 'tenure', shade= True) \r\n",
        "sns.despine(left= True, bottom= True)\r\n"
      ],
      "execution_count": 291,
      "outputs": [
        {
          "output_type": "display_data",
          "data": {
            "image/png": "[encoded data removed]",
            "text/plain": [
              "<Figure size 864x432 with 2 Axes>"
            ]
          },
          "metadata": {
            "tags": []
          }
        }
      ]
    },
    {
      "cell_type": "markdown",
      "metadata": {
        "id": "wS6VakGc0KUn"
      },
      "source": [
        "So customers with highest tenure are not leaving our company, it means\r\n",
        "the Old Customer is more Loyal to the Company."
      ]
    },
    {
      "cell_type": "code",
      "metadata": {
        "colab": {
          "base_uri": "https://localhost:8080/",
          "height": 480
        },
        "id": "qvNXifY8hU5O",
        "outputId": "e52ac156-9308-4e85-e38f-e3d76035aa10"
      },
      "source": [
        "sns.set_theme(style=\"darkgrid\")\r\n",
        "sns.set(rc={'figure.figsize':(9.7, 7.27)})\r\n",
        "sns.countplot('PaymentMethod',data=df1,hue='Churn')"
      ],
      "execution_count": 292,
      "outputs": [
        {
          "output_type": "execute_result",
          "data": {
            "text/plain": [
              "<matplotlib.axes._subplots.AxesSubplot at 0x7f2f8902f090>"
            ]
          },
          "metadata": {
            "tags": []
          },
          "execution_count": 292
        },
        {
          "output_type": "display_data",
          "data": {
            "image/png": "[encoded data removed]",
            "text/plain": [
              "<Figure size 698.4x523.44 with 1 Axes>"
            ]
          },
          "metadata": {
            "tags": []
          }
        }
      ]
    },
    {
      "cell_type": "markdown",
      "metadata": {
        "id": "iZBAf98KhcCt"
      },
      "source": [
        "Customers with the Payment Method of Electronic check are mostly to churn out."
      ]
    },
    {
      "cell_type": "markdown",
      "metadata": {
        "id": "RAW5Mv3div_9"
      },
      "source": [
        "Some of the columns have no internet service or no phone service, that can be replaced with a simple No"
      ]
    },
    {
      "cell_type": "code",
      "metadata": {
        "id": "YuliryVUiy33"
      },
      "source": [
        "df1.replace({'No phone service': 'No'}, inplace= True)\r\n",
        "df1.replace({'No internet service': 'No'}, inplace= True)"
      ],
      "execution_count": 293,
      "outputs": []
    },
    {
      "cell_type": "code",
      "metadata": {
        "colab": {
          "base_uri": "https://localhost:8080/",
          "height": 480
        },
        "id": "H6WyKR2LhU0b",
        "outputId": "d287e7fb-166c-4f66-9b11-bc9dbb55cb62"
      },
      "source": [
        "sns.countplot('StreamingMovies',data=df1,hue='Churn')"
      ],
      "execution_count": 294,
      "outputs": [
        {
          "output_type": "execute_result",
          "data": {
            "text/plain": [
              "<matplotlib.axes._subplots.AxesSubplot at 0x7f2f88ff5710>"
            ]
          },
          "metadata": {
            "tags": []
          },
          "execution_count": 294
        },
        {
          "output_type": "display_data",
          "data": {
            "image/png": "[encoded data removed]",
            "text/plain": [
              "<Figure size 698.4x523.44 with 1 Axes>"
            ]
          },
          "metadata": {
            "tags": []
          }
        }
      ]
    },
    {
      "cell_type": "code",
      "metadata": {
        "colab": {
          "base_uri": "https://localhost:8080/",
          "height": 480
        },
        "id": "QJh0vmLFkOIt",
        "outputId": "91ae64a0-9947-45f9-a25b-d9c9b2818d07"
      },
      "source": [
        "sns.countplot('PaperlessBilling',data=df1,hue='Churn')"
      ],
      "execution_count": 295,
      "outputs": [
        {
          "output_type": "execute_result",
          "data": {
            "text/plain": [
              "<matplotlib.axes._subplots.AxesSubplot at 0x7f2f88f5d810>"
            ]
          },
          "metadata": {
            "tags": []
          },
          "execution_count": 295
        },
        {
          "output_type": "display_data",
          "data": {
            "image/png": "[encoded data removed]",
            "text/plain": [
              "<Figure size 698.4x523.44 with 1 Axes>"
            ]
          },
          "metadata": {
            "tags": []
          }
        }
      ]
    },
    {
      "cell_type": "code",
      "metadata": {
        "colab": {
          "base_uri": "https://localhost:8080/",
          "height": 480
        },
        "id": "ltpLilqUnsDq",
        "outputId": "aa702d9d-a34b-4c14-d6be-2911651cf28c"
      },
      "source": [
        "sns.countplot('DeviceProtection',data=df1,hue='Churn')"
      ],
      "execution_count": 296,
      "outputs": [
        {
          "output_type": "execute_result",
          "data": {
            "text/plain": [
              "<matplotlib.axes._subplots.AxesSubplot at 0x7f2f88f43950>"
            ]
          },
          "metadata": {
            "tags": []
          },
          "execution_count": 296
        },
        {
          "output_type": "display_data",
          "data": {
            "image/png": "[encoded data removed]",
            "text/plain": [
              "<Figure size 698.4x523.44 with 1 Axes>"
            ]
          },
          "metadata": {
            "tags": []
          }
        }
      ]
    },
    {
      "cell_type": "code",
      "metadata": {
        "colab": {
          "base_uri": "https://localhost:8080/"
        },
        "id": "7-E4F36ekKB7",
        "outputId": "95290fbc-6a6b-4f8e-9445-9a437a497fb0"
      },
      "source": [
        "df1.columns"
      ],
      "execution_count": 297,
      "outputs": [
        {
          "output_type": "execute_result",
          "data": {
            "text/plain": [
              "Index(['gender', 'SeniorCitizen', 'Partner', 'Dependents', 'tenure',\n",
              "       'PhoneService', 'MultipleLines', 'InternetService', 'OnlineSecurity',\n",
              "       'OnlineBackup', 'DeviceProtection', 'TechSupport', 'StreamingTV',\n",
              "       'StreamingMovies', 'Contract', 'PaperlessBilling', 'PaymentMethod',\n",
              "       'MonthlyCharges', 'TotalCharges', 'Churn'],\n",
              "      dtype='object')"
            ]
          },
          "metadata": {
            "tags": []
          },
          "execution_count": 297
        }
      ]
    },
    {
      "cell_type": "code",
      "metadata": {
        "colab": {
          "base_uri": "https://localhost:8080/",
          "height": 173
        },
        "id": "g9DAkgqzp7GI",
        "outputId": "cec376a4-5eb3-436f-aebf-7f7f1af1cd2f"
      },
      "source": [
        "df1.corr()"
      ],
      "execution_count": 298,
      "outputs": [
        {
          "output_type": "execute_result",
          "data": {
            "text/html": [
              "<div>\n",
              "<style scoped>\n",
              "    .dataframe tbody tr th:only-of-type {\n",
              "        vertical-align: middle;\n",
              "    }\n",
              "\n",
              "    .dataframe tbody tr th {\n",
              "        vertical-align: top;\n",
              "    }\n",
              "\n",
              "    .dataframe thead th {\n",
              "        text-align: right;\n",
              "    }\n",
              "</style>\n",
              "<table border=\"1\" class=\"dataframe\">\n",
              "  <thead>\n",
              "    <tr style=\"text-align: right;\">\n",
              "      <th></th>\n",
              "      <th>SeniorCitizen</th>\n",
              "      <th>tenure</th>\n",
              "      <th>MonthlyCharges</th>\n",
              "      <th>TotalCharges</th>\n",
              "    </tr>\n",
              "  </thead>\n",
              "  <tbody>\n",
              "    <tr>\n",
              "      <th>SeniorCitizen</th>\n",
              "      <td>1.000000</td>\n",
              "      <td>0.015683</td>\n",
              "      <td>0.219874</td>\n",
              "      <td>0.102411</td>\n",
              "    </tr>\n",
              "    <tr>\n",
              "      <th>tenure</th>\n",
              "      <td>0.015683</td>\n",
              "      <td>1.000000</td>\n",
              "      <td>0.246862</td>\n",
              "      <td>0.825880</td>\n",
              "    </tr>\n",
              "    <tr>\n",
              "      <th>MonthlyCharges</th>\n",
              "      <td>0.219874</td>\n",
              "      <td>0.246862</td>\n",
              "      <td>1.000000</td>\n",
              "      <td>0.651065</td>\n",
              "    </tr>\n",
              "    <tr>\n",
              "      <th>TotalCharges</th>\n",
              "      <td>0.102411</td>\n",
              "      <td>0.825880</td>\n",
              "      <td>0.651065</td>\n",
              "      <td>1.000000</td>\n",
              "    </tr>\n",
              "  </tbody>\n",
              "</table>\n",
              "</div>"
            ],
            "text/plain": [
              "                SeniorCitizen    tenure  MonthlyCharges  TotalCharges\n",
              "SeniorCitizen        1.000000  0.015683        0.219874      0.102411\n",
              "tenure               0.015683  1.000000        0.246862      0.825880\n",
              "MonthlyCharges       0.219874  0.246862        1.000000      0.651065\n",
              "TotalCharges         0.102411  0.825880        0.651065      1.000000"
            ]
          },
          "metadata": {
            "tags": []
          },
          "execution_count": 298
        }
      ]
    },
    {
      "cell_type": "code",
      "metadata": {
        "colab": {
          "base_uri": "https://localhost:8080/"
        },
        "id": "o8-EmqtHNdi_",
        "outputId": "8e95ecdc-d5f5-4ced-8867-1ed33a00c147"
      },
      "source": [
        "cat_val(df1)"
      ],
      "execution_count": 299,
      "outputs": [
        {
          "output_type": "stream",
          "text": [
            "gender : ['Female' 'Male']\n",
            "Partner : ['Yes' 'No']\n",
            "Dependents : ['No' 'Yes']\n",
            "PhoneService : ['No' 'Yes']\n",
            "MultipleLines : ['No' 'Yes']\n",
            "InternetService : ['DSL' 'Fiber optic' 'No']\n",
            "OnlineSecurity : ['No' 'Yes']\n",
            "OnlineBackup : ['Yes' 'No']\n",
            "DeviceProtection : ['No' 'Yes']\n",
            "TechSupport : ['No' 'Yes']\n",
            "StreamingTV : ['No' 'Yes']\n",
            "StreamingMovies : ['No' 'Yes']\n",
            "Contract : ['Month-to-month' 'One year' 'Two year']\n",
            "PaperlessBilling : ['Yes' 'No']\n",
            "PaymentMethod : ['Electronic check' 'Mailed check' 'Bank transfer (automatic)'\n",
            " 'Credit card (automatic)']\n",
            "Churn : ['No' 'Yes']\n"
          ],
          "name": "stdout"
        }
      ]
    },
    {
      "cell_type": "markdown",
      "metadata": {
        "id": "FLhjmvb7N1HD"
      },
      "source": [
        "**Categorical columns**"
      ]
    },
    {
      "cell_type": "code",
      "metadata": {
        "colab": {
          "base_uri": "https://localhost:8080/"
        },
        "id": "MW6zJqrYNyR3",
        "outputId": "4a0c8eb0-de82-4edb-e0ca-682c01ea4043"
      },
      "source": [
        "cols= ['InternetService','Contract','PaymentMethod']\r\n",
        "df2= pd.get_dummies(data= df1, columns= cols)\r\n",
        "df2.shape[1]"
      ],
      "execution_count": 300,
      "outputs": [
        {
          "output_type": "execute_result",
          "data": {
            "text/plain": [
              "27"
            ]
          },
          "metadata": {
            "tags": []
          },
          "execution_count": 300
        }
      ]
    },
    {
      "cell_type": "code",
      "metadata": {
        "id": "ZhCm7Kmh0DBy"
      },
      "source": [
        "df2['gender'].replace({'Female':1, 'Male':0}, inplace= True)"
      ],
      "execution_count": 301,
      "outputs": []
    },
    {
      "cell_type": "code",
      "metadata": {
        "id": "YVlYVqRfqcPR"
      },
      "source": [
        "yes_no_columns= ['Partner','Dependents','PhoneService','MultipleLines','OnlineSecurity','OnlineBackup',\r\n",
        "                  'DeviceProtection','TechSupport','StreamingTV','StreamingMovies','PaperlessBilling','Churn']\r\n",
        "for col in yes_no_columns:\r\n",
        "  df2[col].replace({'Yes':1, 'No':0}, inplace= True)"
      ],
      "execution_count": 302,
      "outputs": []
    },
    {
      "cell_type": "code",
      "metadata": {
        "colab": {
          "base_uri": "https://localhost:8080/",
          "height": 695
        },
        "id": "6SYYleG9qryv",
        "outputId": "bae13a5f-5197-41a4-df8e-addc4b0b4166"
      },
      "source": [
        "#We should handle the collinearity problem. This is because the presence of collinear variables always reduces the model’s performance since they introduce bias into the model.\r\n",
        "#I have removed the highly correlated variables:\r\n",
        "cm= df2.corr()\r\n",
        "sns.heatmap(cm, xticklabels=cm.columns, yticklabels=cm.columns, cmap=\"Blues\")"
      ],
      "execution_count": 303,
      "outputs": [
        {
          "output_type": "execute_result",
          "data": {
            "text/plain": [
              "<matplotlib.axes._subplots.AxesSubplot at 0x7f2f88ea8f50>"
            ]
          },
          "metadata": {
            "tags": []
          },
          "execution_count": 303
        },
        {
          "output_type": "display_data",
          "data": {
            "image/png": "[encoded data removed]",
            "text/plain": [
              "<Figure size 698.4x523.44 with 2 Axes>"
            ]
          },
          "metadata": {
            "tags": []
          }
        }
      ]
    },
    {
      "cell_type": "code",
      "metadata": {
        "colab": {
          "base_uri": "https://localhost:8080/"
        },
        "id": "eX0jprpfxViO",
        "outputId": "a7588ec2-58b7-4f3d-86ad-c282a927b514"
      },
      "source": [
        "df3= df2.drop(['TotalCharges','Partner'],axis='columns')\r\n",
        "df3.shape"
      ],
      "execution_count": 304,
      "outputs": [
        {
          "output_type": "execute_result",
          "data": {
            "text/plain": [
              "(7032, 25)"
            ]
          },
          "metadata": {
            "tags": []
          },
          "execution_count": 304
        }
      ]
    },
    {
      "cell_type": "markdown",
      "metadata": {
        "id": "p-rCyHdwU0nw"
      },
      "source": [
        "**Train test split**"
      ]
    },
    {
      "cell_type": "code",
      "metadata": {
        "id": "FvS-Kt6_UMpT",
        "colab": {
          "base_uri": "https://localhost:8080/"
        },
        "outputId": "cf71979a-0abe-4bbe-db7e-32fe2158cf48"
      },
      "source": [
        "X = df3.drop('Churn',axis='columns')\r\n",
        "X.shape"
      ],
      "execution_count": 305,
      "outputs": [
        {
          "output_type": "execute_result",
          "data": {
            "text/plain": [
              "(7032, 24)"
            ]
          },
          "metadata": {
            "tags": []
          },
          "execution_count": 305
        }
      ]
    },
    {
      "cell_type": "code",
      "metadata": {
        "id": "RY_1G36UyPys"
      },
      "source": [
        "y = df3['Churn']"
      ],
      "execution_count": 306,
      "outputs": []
    },
    {
      "cell_type": "code",
      "metadata": {
        "id": "s2k-jrViU9MC"
      },
      "source": [
        "from sklearn.model_selection import train_test_split\r\n",
        "X_train, X_test, y_train, y_test = train_test_split(X,y,test_size=0.2,random_state=5)"
      ],
      "execution_count": 307,
      "outputs": []
    },
    {
      "cell_type": "code",
      "metadata": {
        "colab": {
          "base_uri": "https://localhost:8080/"
        },
        "id": "rmJyTysAVxXo",
        "outputId": "f1b024b2-8af2-4b1a-cdee-51046fd2d1da"
      },
      "source": [
        "X_train.shape"
      ],
      "execution_count": 308,
      "outputs": [
        {
          "output_type": "execute_result",
          "data": {
            "text/plain": [
              "(5625, 24)"
            ]
          },
          "metadata": {
            "tags": []
          },
          "execution_count": 308
        }
      ]
    },
    {
      "cell_type": "markdown",
      "metadata": {
        "id": "eH7_uiEjry1U"
      },
      "source": [
        "**Let's scale the values**"
      ]
    },
    {
      "cell_type": "code",
      "metadata": {
        "id": "roO-hK85rycs"
      },
      "source": [
        "from sklearn.preprocessing import StandardScaler\r\n",
        "scalar= StandardScaler()\r\n",
        "\r\n",
        "X_train= scalar.fit_transform(X_train)\r\n",
        "X_test= scalar.transform(X_test)"
      ],
      "execution_count": 309,
      "outputs": []
    },
    {
      "cell_type": "code",
      "metadata": {
        "colab": {
          "base_uri": "https://localhost:8080/"
        },
        "id": "ljA9uk0WtHDY",
        "outputId": "3954a444-0a8d-4bac-badf-7889ba138b1b"
      },
      "source": [
        "X_train[0]"
      ],
      "execution_count": 310,
      "outputs": [
        {
          "output_type": "execute_result",
          "data": {
            "text/plain": [
              "array([ 0.99698233,  2.31119036, -0.65617809, -0.92000266,  0.32587527,\n",
              "       -0.85953152, -0.63214072, -0.72471851,  1.37227434, -0.64317321,\n",
              "       -0.79162037,  1.25333194,  0.83537831,  0.66074024, -0.72614567,\n",
              "        1.14044443, -0.53122255,  0.91489596, -0.51689195, -0.56934396,\n",
              "       -0.53672117,  1.92743461, -0.70795548, -0.5471529 ])"
            ]
          },
          "metadata": {
            "tags": []
          },
          "execution_count": 310
        }
      ]
    },
    {
      "cell_type": "markdown",
      "metadata": {
        "id": "mpmXRETiWZ6s"
      },
      "source": [
        "**Build a model (ANN) in Keras**"
      ]
    },
    {
      "cell_type": "code",
      "metadata": {
        "id": "6BpClDuWV0sA"
      },
      "source": [
        "# from keras.layers import Dense\r\n",
        "# from keras.models import Sequential\r\n",
        "# model= Sequential()"
      ],
      "execution_count": 311,
      "outputs": []
    },
    {
      "cell_type": "code",
      "metadata": {
        "id": "2h_nFE4tWyD5"
      },
      "source": [
        "# model.add(Dense(units= 10, kernel_initializer= 'he_uniform', activation='relu', input_dim=24))\r\n",
        "# model.add(Dense(units= 6, kernel_initializer= 'he_uniform', activation='relu'))\r\n",
        "# model.add(Dense(units= 1, kernel_initializer= 'glorot_uniform', activation='sigmoid'))"
      ],
      "execution_count": 312,
      "outputs": []
    },
    {
      "cell_type": "code",
      "metadata": {
        "id": "a1jasJaAYHle"
      },
      "source": [
        "# model.summary()"
      ],
      "execution_count": 313,
      "outputs": []
    },
    {
      "cell_type": "code",
      "metadata": {
        "id": "sauuLEbGYQwz"
      },
      "source": [
        "# model.compile(loss= 'binary_crossentropy',\r\n",
        "#              metrics= ['accuracy'],\r\n",
        "#              optimizer= 'adam'\r\n",
        "#              )"
      ],
      "execution_count": 314,
      "outputs": []
    },
    {
      "cell_type": "code",
      "metadata": {
        "id": "WxUVmvsVYZTO"
      },
      "source": [
        "# # Fitting the ANN to the Training set\r\n",
        "# model.fit(X_train, y_train, validation_split=0.35, batch_size = 10, epochs = 100)"
      ],
      "execution_count": 315,
      "outputs": []
    },
    {
      "cell_type": "code",
      "metadata": {
        "id": "O37iQ_MNZgf-"
      },
      "source": [
        "# model.evaluate(X_test,y_test)"
      ],
      "execution_count": 316,
      "outputs": []
    },
    {
      "cell_type": "code",
      "metadata": {
        "id": "J45FHjDMYjJ8"
      },
      "source": [
        "# prediction= model.predict(X_test)"
      ],
      "execution_count": 317,
      "outputs": []
    },
    {
      "cell_type": "code",
      "metadata": {
        "id": "oXn5KbvFd21F"
      },
      "source": [
        "# y_pred= list()\r\n",
        "# for i in prediction:\r\n",
        "#   if i >=0.5:\r\n",
        "#     y_pred.append(1)\r\n",
        "#   else:\r\n",
        "#     y_pred.append(0)"
      ],
      "execution_count": 318,
      "outputs": []
    },
    {
      "cell_type": "code",
      "metadata": {
        "id": "blYzrolmd2lF"
      },
      "source": [
        "# y_pred[:5]"
      ],
      "execution_count": 319,
      "outputs": []
    },
    {
      "cell_type": "code",
      "metadata": {
        "id": "UHpfOeAPJJJx"
      },
      "source": [
        "# y_test[:5]"
      ],
      "execution_count": 320,
      "outputs": []
    },
    {
      "cell_type": "code",
      "metadata": {
        "id": "yZXQ4nMMdjuJ"
      },
      "source": [
        "\r\n",
        "# # Making the Confusion Matrix and Classification Report\r\n",
        "# from sklearn.metrics import confusion_matrix, classification_report\r\n",
        "# cm = confusion_matrix(y_test, y_pred)"
      ],
      "execution_count": 321,
      "outputs": []
    },
    {
      "cell_type": "code",
      "metadata": {
        "id": "sJOEV6wHebm-"
      },
      "source": [
        "# print(classification_report(y_test,y_pred))"
      ],
      "execution_count": 322,
      "outputs": []
    },
    {
      "cell_type": "code",
      "metadata": {
        "id": "8vazMg3Jel6z"
      },
      "source": [
        "# plt.figure(figsize = (10,7))\r\n",
        "# sns.heatmap(cm, annot=True,  fmt='d')\r\n",
        "# plt.xlabel('Predicted')\r\n",
        "# plt.ylabel('Truth')"
      ],
      "execution_count": 323,
      "outputs": []
    },
    {
      "cell_type": "markdown",
      "metadata": {
        "id": "wOLieWBHJll0"
      },
      "source": [
        "**Imbalanced data**"
      ]
    },
    {
      "cell_type": "code",
      "metadata": {
        "colab": {
          "base_uri": "https://localhost:8080/"
        },
        "id": "FMmtwcqHJlOv",
        "outputId": "7002602b-e1a6-4334-e53d-b9e6da6e4fbf"
      },
      "source": [
        "df3[df3.Churn==0].shape"
      ],
      "execution_count": 324,
      "outputs": [
        {
          "output_type": "execute_result",
          "data": {
            "text/plain": [
              "(5163, 25)"
            ]
          },
          "metadata": {
            "tags": []
          },
          "execution_count": 324
        }
      ]
    },
    {
      "cell_type": "code",
      "metadata": {
        "colab": {
          "base_uri": "https://localhost:8080/"
        },
        "id": "0ARXjDFeJ45A",
        "outputId": "dd9010ff-12e4-44e2-aa9b-8aeb516b8001"
      },
      "source": [
        "df3[df3.Churn==1].shape"
      ],
      "execution_count": 325,
      "outputs": [
        {
          "output_type": "execute_result",
          "data": {
            "text/plain": [
              "(1869, 25)"
            ]
          },
          "metadata": {
            "tags": []
          },
          "execution_count": 325
        }
      ]
    },
    {
      "cell_type": "markdown",
      "metadata": {
        "id": "2OGXpcxEJ76G"
      },
      "source": [
        "As target column contains more No data than Yes, it creates our data imbalanced and also will behave horribly in reality. We want to improve f1-score for Yes data."
      ]
    },
    {
      "cell_type": "markdown",
      "metadata": {
        "id": "WIb7Qk3xKzy4"
      },
      "source": [
        "**SMOTE technique**"
      ]
    },
    {
      "cell_type": "code",
      "metadata": {
        "id": "cgzBR3ZVNRbs"
      },
      "source": [
        "from imblearn.over_sampling import SMOTE\r\n",
        "\r\n",
        "smote = SMOTE(sampling_strategy='minority')\r\n",
        "X_sm, y_sm = smote.fit_sample(X, y)"
      ],
      "execution_count": 326,
      "outputs": []
    },
    {
      "cell_type": "code",
      "metadata": {
        "id": "kj3w6JeAN6DI"
      },
      "source": [
        "from sklearn.model_selection import train_test_split\r\n",
        "X_train, X_test, y_train, y_test = train_test_split(X_sm, y_sm, test_size=0.2, random_state=15, stratify=y_sm)"
      ],
      "execution_count": 327,
      "outputs": []
    },
    {
      "cell_type": "markdown",
      "metadata": {
        "id": "wRGeMNrIRpSP"
      },
      "source": [
        "**ANN with balanced data**"
      ]
    },
    {
      "cell_type": "code",
      "metadata": {
        "id": "CttKQPJnRiKg"
      },
      "source": [
        "# classifier= Sequential()\r\n",
        "# classifier.add(Dense(units= 10, kernel_initializer= 'he_uniform', activation='relu', input_dim=24))\r\n",
        "# classifier.add(Dense(units= 6, kernel_initializer= 'he_uniform', activation='relu'))\r\n",
        "# classifier.add(Dense(units= 1, kernel_initializer= 'glorot_uniform', activation='sigmoid'))\r\n",
        "# classifier.summary()"
      ],
      "execution_count": 328,
      "outputs": []
    },
    {
      "cell_type": "code",
      "metadata": {
        "id": "JsuK2qEYR6QP"
      },
      "source": [
        "# classifier.compile(loss= 'binary_crossentropy',\r\n",
        "#              metrics= ['accuracy'],\r\n",
        "#              optimizer= 'adam'\r\n",
        "#              )"
      ],
      "execution_count": 329,
      "outputs": []
    },
    {
      "cell_type": "code",
      "metadata": {
        "id": "a-aifhvfR9Zh"
      },
      "source": [
        "# # Fitting the ANN to the Training set\r\n",
        "# classifier.fit(X_train, y_train, validation_split=0.35, batch_size = 10, epochs = 100)"
      ],
      "execution_count": 330,
      "outputs": []
    },
    {
      "cell_type": "code",
      "metadata": {
        "id": "qGIta2ueSubF"
      },
      "source": [
        "# predictions= classifier.predict(X_test)\r\n",
        "# predictions[:5]"
      ],
      "execution_count": 331,
      "outputs": []
    },
    {
      "cell_type": "code",
      "metadata": {
        "id": "o0OHaTuJS3sR"
      },
      "source": [
        "# pred= list()\r\n",
        "# for i in predictions:\r\n",
        "#   if i >=0.5:\r\n",
        "#     pred.append(1)\r\n",
        "#   else:\r\n",
        "#     pred.append(0)\r\n",
        "\r\n",
        "# pred[:5]    "
      ],
      "execution_count": 332,
      "outputs": []
    },
    {
      "cell_type": "code",
      "metadata": {
        "id": "xsdlvLILTJLP"
      },
      "source": [
        "# cm_smote= confusion_matrix(y_test,pred)\r\n",
        "# cm_smote"
      ],
      "execution_count": 333,
      "outputs": []
    },
    {
      "cell_type": "code",
      "metadata": {
        "id": "U5L-a20FTSGq"
      },
      "source": [
        "# print(classification_report(y_test,pred))\r\n"
      ],
      "execution_count": 334,
      "outputs": []
    },
    {
      "cell_type": "markdown",
      "metadata": {
        "id": "mvAJbD_7TnN8"
      },
      "source": [
        "**Although accuracy is just increased by 1% but ovearll f1-score for both Yes and No values have been improved and that is needed.**"
      ]
    },
    {
      "cell_type": "markdown",
      "metadata": {
        "id": "g8cHyU7T2JyP"
      },
      "source": [
        "**Recommendations to improve performance — Prescriptive Analytics**"
      ]
    },
    {
      "cell_type": "markdown",
      "metadata": {
        "id": "oGBTHRhh2QMs"
      },
      "source": [
        "So The Company should Improve their Internet Service(Optical Fibre) and Phone Service like Give customers cheaper plans than other competitors.As well as push schemes to m-t-m billing customers as they are more likely to switch networks."
      ]
    },
    {
      "cell_type": "code",
      "metadata": {
        "colab": {
          "base_uri": "https://localhost:8080/"
        },
        "id": "GYDZHPFZ3vQ-",
        "outputId": "3eefaa0d-be53-461f-b6ef-39dfe344b92e"
      },
      "source": [
        "from sklearn.linear_model import LogisticRegression\r\n",
        "from sklearn import metrics\r\n",
        "model= LogisticRegression()\r\n",
        "model.fit(X_train, y_train)\r\n",
        "predictions= model.predict(X_test)\r\n",
        "    \r\n",
        "print('Accuracy of Logistic Regression model is:', metrics.accuracy_score(y_test, predictions))\r\n",
        "print('Error of Logistic Regression model is:', metrics.mean_squared_error(y_test, predictions))"
      ],
      "execution_count": 335,
      "outputs": [
        {
          "output_type": "stream",
          "text": [
            "Accuracy of Logistic Regression model is: 0.7710551790900291\n",
            "Error of Logistic Regression model is: 0.22894482090997095\n"
          ],
          "name": "stdout"
        }
      ]
    },
    {
      "cell_type": "code",
      "metadata": {
        "colab": {
          "base_uri": "https://localhost:8080/"
        },
        "id": "V_YCG1444IfH",
        "outputId": "5b5f450a-31d7-4525-bd8e-3f3a2bd655e5"
      },
      "source": [
        "print(model.coef_, model.intercept_)"
      ],
      "execution_count": 336,
      "outputs": [
        {
          "output_type": "stream",
          "text": [
            "[[ 0.01119431  0.16759501 -0.20864647 -0.03060037 -0.82768808  0.27449736\n",
            "  -0.5309223  -0.25049184 -0.09519253 -0.39121683  0.17527834  0.13883317\n",
            "   0.34802847  0.01467922 -0.07592664  0.42947717 -0.48966333  0.71310703\n",
            "  -0.13302688 -0.71619296 -0.13610328 -0.20811998  0.28446137 -0.07635092]] [-0.14151174]\n"
          ],
          "name": "stdout"
        }
      ]
    },
    {
      "cell_type": "code",
      "metadata": {
        "colab": {
          "base_uri": "https://localhost:8080/"
        },
        "id": "fOV9zgySJSEy",
        "outputId": "2c9b4aa5-c0f3-4c0d-e3f3-72c538a08508"
      },
      "source": [
        "import numpy as np\r\n",
        "\r\n",
        "odds= np.exp(model.coef_)\r\n",
        "Probability = odds/(1+odds)\r\n",
        "Probability"
      ],
      "execution_count": 337,
      "outputs": [
        {
          "output_type": "execute_result",
          "data": {
            "text/plain": [
              "array([[0.50279855, 0.54180096, 0.44802679, 0.4923505 , 0.30413413,\n",
              "        0.56819666, 0.3703018 , 0.43770244, 0.47621982, 0.40342441,\n",
              "        0.54370774, 0.53465265, 0.58613941, 0.50366974, 0.48102745,\n",
              "        0.60574881, 0.37997288, 0.67108734, 0.46679224, 0.32823187,\n",
              "        0.46602661, 0.448157  , 0.57063965, 0.48092154]])"
            ]
          },
          "metadata": {
            "tags": []
          },
          "execution_count": 337
        }
      ]
    },
    {
      "cell_type": "code",
      "metadata": {
        "colab": {
          "base_uri": "https://localhost:8080/"
        },
        "id": "nHQxAEb1Tsmo",
        "outputId": "1d573d19-a5fc-4733-83c9-8cc6d1285170"
      },
      "source": [
        "X.info()"
      ],
      "execution_count": 338,
      "outputs": [
        {
          "output_type": "stream",
          "text": [
            "<class 'pandas.core.frame.DataFrame'>\n",
            "Int64Index: 7032 entries, 0 to 7042\n",
            "Data columns (total 24 columns):\n",
            " #   Column                                   Non-Null Count  Dtype  \n",
            "---  ------                                   --------------  -----  \n",
            " 0   gender                                   7032 non-null   int64  \n",
            " 1   SeniorCitizen                            7032 non-null   int64  \n",
            " 2   Dependents                               7032 non-null   int64  \n",
            " 3   tenure                                   7032 non-null   int64  \n",
            " 4   PhoneService                             7032 non-null   int64  \n",
            " 5   MultipleLines                            7032 non-null   int64  \n",
            " 6   OnlineSecurity                           7032 non-null   int64  \n",
            " 7   OnlineBackup                             7032 non-null   int64  \n",
            " 8   DeviceProtection                         7032 non-null   int64  \n",
            " 9   TechSupport                              7032 non-null   int64  \n",
            " 10  StreamingTV                              7032 non-null   int64  \n",
            " 11  StreamingMovies                          7032 non-null   int64  \n",
            " 12  PaperlessBilling                         7032 non-null   int64  \n",
            " 13  MonthlyCharges                           7032 non-null   float64\n",
            " 14  InternetService_DSL                      7032 non-null   uint8  \n",
            " 15  InternetService_Fiber optic              7032 non-null   uint8  \n",
            " 16  InternetService_No                       7032 non-null   uint8  \n",
            " 17  Contract_Month-to-month                  7032 non-null   uint8  \n",
            " 18  Contract_One year                        7032 non-null   uint8  \n",
            " 19  Contract_Two year                        7032 non-null   uint8  \n",
            " 20  PaymentMethod_Bank transfer (automatic)  7032 non-null   uint8  \n",
            " 21  PaymentMethod_Credit card (automatic)    7032 non-null   uint8  \n",
            " 22  PaymentMethod_Electronic check           7032 non-null   uint8  \n",
            " 23  PaymentMethod_Mailed check               7032 non-null   uint8  \n",
            "dtypes: float64(1), int64(13), uint8(10)\n",
            "memory usage: 1.2 MB\n"
          ],
          "name": "stdout"
        }
      ]
    },
    {
      "cell_type": "markdown",
      "metadata": {
        "id": "mjh1V98qWqRz"
      },
      "source": [
        "Based on the probabilities and Hypothesis that I've generated the factors like \r\n",
        "**'Contract_Month-to-month'**, **'PaperlessBilling'**, **'InternetService_Fiber optic'**, **'PaymentMethod_Electronic check'**, **'MonthlyCharges'** and **'MultipleLines'** are highly signaficant."
      ]
    },
    {
      "cell_type": "markdown",
      "metadata": {
        "id": "Pmu2YPxlXPth"
      },
      "source": [
        "**The variables related to cost, billing, network, and service quality making a significant contribution towards a customer’s decision to stay with or leave the service provider.**"
      ]
    },
    {
      "cell_type": "markdown",
      "metadata": {
        "id": "u_bnnItEcIuJ"
      },
      "source": [
        "So The Company should Improve their Internet Service(Optical Fibre) and Phone Service like Give customers cheaper plans than other competitors.As well as push schemes to m-t-m billing customers as they are more likely to switch networks."
      ]
    }
  ]
}